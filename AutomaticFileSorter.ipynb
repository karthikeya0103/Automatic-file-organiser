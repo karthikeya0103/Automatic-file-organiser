{
 "cells": [
  {
   "cell_type": "code",
   "execution_count": 1,
   "id": "150f7773",
   "metadata": {},
   "outputs": [],
   "source": [
    "import os,shutil"
   ]
  },
  {
   "cell_type": "code",
   "execution_count": 2,
   "id": "29db93de",
   "metadata": {},
   "outputs": [],
   "source": [
    "### paste the directory name you want to organize"
   ]
  },
  {
   "cell_type": "code",
   "execution_count": 3,
   "id": "9b20b237",
   "metadata": {},
   "outputs": [],
   "source": [
    "path = r\"paste here\""
   ]
  },
  {
   "cell_type": "code",
   "execution_count": 4,
   "id": "6aae7af2",
   "metadata": {},
   "outputs": [],
   "source": [
    "files=os.listdir(path)"
   ]
  },
  {
   "cell_type": "code",
   "execution_count": 5,
   "id": "a54aded3",
   "metadata": {},
   "outputs": [],
   "source": [
    "folder=set()"
   ]
  },
  {
   "cell_type": "code",
   "execution_count": 6,
   "id": "1e3df513",
   "metadata": {},
   "outputs": [],
   "source": [
    "for file in files:\n",
    "    k=file.rfind('.')\n",
    "    if k!=-1 and k!=len(file)-1:\n",
    "        name=file[k+1:].lower()\n",
    "        folder.add(name)\n",
    "        if not os.path.exists(path+'/'+name):\n",
    "            os.mkdir(path+'/'+name)"
   ]
  },
  {
   "cell_type": "code",
   "execution_count": 7,
   "id": "abdf28d8",
   "metadata": {},
   "outputs": [],
   "source": [
    "for file in files:\n",
    "    k=file.rfind('.')\n",
    "    if k!=-1 and k!=len(file)-1:\n",
    "        name=file[k+1:].lower()\n",
    "        if name in folder:\n",
    "            shutil.move(path+'/'+file,path+'/'+name+'/'+file)\n",
    "files=os.listdir(path)"
   ]
  }
 ],
 "metadata": {
  "kernelspec": {
   "display_name": "Python 3 (ipykernel)",
   "language": "python",
   "name": "python3"
  },
  "language_info": {
   "codemirror_mode": {
    "name": "ipython",
    "version": 3
   },
   "file_extension": ".py",
   "mimetype": "text/x-python",
   "name": "python",
   "nbconvert_exporter": "python",
   "pygments_lexer": "ipython3",
   "version": "3.9.12"
  }
 },
 "nbformat": 4,
 "nbformat_minor": 5
}
